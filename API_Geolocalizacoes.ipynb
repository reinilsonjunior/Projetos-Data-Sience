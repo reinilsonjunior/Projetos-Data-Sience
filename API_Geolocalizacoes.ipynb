{
 "cells": [
  {
   "cell_type": "markdown",
   "metadata": {},
   "source": [
    "#### <font color='orange'>Geocodificação de dados usando Latitude e Longitude</font>"
   ]
  },
  {
   "cell_type": "markdown",
   "metadata": {},
   "source": [
    "##### <font color='white'>\n",
    "\n",
    "**Explicação do Código**\n",
    "\n",
    "1. **Importar Bibliotecas:**\n",
    "\n",
    "- **Pandas:** para manipulação de DataFrames;\n",
    "- **Requests:** para fazer solicitações HTTP;\n",
    "- **Time:** para adicionar atrasos entre as solicitações.\n",
    "\n",
    "\n",
    "2. **Função de Geocodificação Reversa:**\n",
    "\n",
    "- **Reverse_geocode_nominatim:** Faz uma solicitação HTTP para a API do Nominatim usando a URL de geocodificação reversa;\n",
    "- Adicionamos cabeçalhos User-Agent para se parecer com um navegador Google Chrome;\n",
    "- Incluímos um tempo limite (timeout=10) e tratamos exceções de tempo limite e outras exceções de solicitação;\n",
    "- A resposta da API é verificada e, se bem-sucedida, extraímos o endereço formatado dos dados retornados;\n",
    "- Tqdm para a barra de progresso.\n",
    "\n",
    "\n",
    "</font>"
   ]
  },
  {
   "cell_type": "code",
   "execution_count": 31,
   "metadata": {},
   "outputs": [],
   "source": [
    "# Importando os pacotes necessários\n",
    "\n",
    "import pandas as pd\n",
    "import requests\n",
    "import time\n",
    "from tqdm import tqdm"
   ]
  },
  {
   "cell_type": "code",
   "execution_count": 38,
   "metadata": {},
   "outputs": [
    {
     "data": {
      "text/html": [
       "<div>\n",
       "<style scoped>\n",
       "    .dataframe tbody tr th:only-of-type {\n",
       "        vertical-align: middle;\n",
       "    }\n",
       "\n",
       "    .dataframe tbody tr th {\n",
       "        vertical-align: top;\n",
       "    }\n",
       "\n",
       "    .dataframe thead th {\n",
       "        text-align: right;\n",
       "    }\n",
       "</style>\n",
       "<table border=\"1\" class=\"dataframe\">\n",
       "  <thead>\n",
       "    <tr style=\"text-align: right;\">\n",
       "      <th></th>\n",
       "      <th>GEOCODIGO_MUNICIPIO</th>\n",
       "      <th>NOME_MUNICIPIO</th>\n",
       "      <th>LONGITUDE</th>\n",
       "      <th>LATITUDE</th>\n",
       "    </tr>\n",
       "  </thead>\n",
       "  <tbody>\n",
       "    <tr>\n",
       "      <th>0</th>\n",
       "      <td>1100015</td>\n",
       "      <td>ALTA FLORESTA D'OESTE</td>\n",
       "      <td>-61.999824</td>\n",
       "      <td>-11.935540</td>\n",
       "    </tr>\n",
       "    <tr>\n",
       "      <th>1</th>\n",
       "      <td>1100023</td>\n",
       "      <td>ARIQUEMES</td>\n",
       "      <td>-63.033269</td>\n",
       "      <td>-9.908463</td>\n",
       "    </tr>\n",
       "    <tr>\n",
       "      <th>2</th>\n",
       "      <td>1100031</td>\n",
       "      <td>CABIXI</td>\n",
       "      <td>-60.544314</td>\n",
       "      <td>-13.499763</td>\n",
       "    </tr>\n",
       "    <tr>\n",
       "      <th>3</th>\n",
       "      <td>1100049</td>\n",
       "      <td>CACOAL</td>\n",
       "      <td>-61.442944</td>\n",
       "      <td>-11.433865</td>\n",
       "    </tr>\n",
       "    <tr>\n",
       "      <th>4</th>\n",
       "      <td>1100056</td>\n",
       "      <td>CEREJEIRAS</td>\n",
       "      <td>-60.818426</td>\n",
       "      <td>-13.195033</td>\n",
       "    </tr>\n",
       "  </tbody>\n",
       "</table>\n",
       "</div>"
      ],
      "text/plain": [
       "   GEOCODIGO_MUNICIPIO         NOME_MUNICIPIO  LONGITUDE   LATITUDE\n",
       "0              1100015  ALTA FLORESTA D'OESTE -61.999824 -11.935540\n",
       "1              1100023              ARIQUEMES -63.033269  -9.908463\n",
       "2              1100031                 CABIXI -60.544314 -13.499763\n",
       "3              1100049                 CACOAL -61.442944 -11.433865\n",
       "4              1100056             CEREJEIRAS -60.818426 -13.195033"
      ]
     },
     "execution_count": 38,
     "metadata": {},
     "output_type": "execute_result"
    }
   ],
   "source": [
    "# Checando a estrutura dos arquivos\n",
    "\n",
    "df = pd.read_excel('Coordenadas.xlsx')\n",
    "df.head()"
   ]
  },
  {
   "cell_type": "code",
   "execution_count": 39,
   "metadata": {},
   "outputs": [
    {
     "name": "stderr",
     "output_type": "stream",
     "text": [
      "Atualizando dados de Geolocalização: 100%|██████████| 299/299 [18:23<00:00,  3.69s/it]\n"
     ]
    }
   ],
   "source": [
    "# Funcao para geocodificacao reversa usando API da Nominatim (OpenStreetMap)\n",
    "\n",
    "def reverse_geocode_nomination (lat, lon):\n",
    "    url = f\"https://nominatim.openstreetmap.org/reverse?format=jsonv2&lat={lat}&lon={lon}\"\n",
    "    response = requests.get ( url, headers ={'User-Agent':'Mozilla/5.0'})\n",
    "    if response.status_code == 200:\n",
    "        data = response.json()\n",
    "        if 'address' in data:\n",
    "            address = data['address']\n",
    "            formatted_address = ','.join(value for key, value in address.items())\n",
    "            return formatted_address\n",
    "    else:\n",
    "        print(f\"Error: Received response code {response.status_code}\")\n",
    "    return None\n",
    "\n",
    "# Aplicar a funcaoo reverse_geocode\n",
    "# Função para atualizar geolocalização com barra de progresso\n",
    "\n",
    "def update_geolocation_with_progress(df):\n",
    "    addresses = []\n",
    "    for _, row in tqdm(df.iterrows(), total= df.shape[0], desc=\"Atualizando dados de Geolocalização\"):\n",
    "        address = reverse_geocode_nomination(row['LATITUDE'], row['LONGITUDE'])\n",
    "        addresses.append(address)\n",
    "        time.sleep(1)  # Adicionar um atraso de 1 segundo entre as solicitações\n",
    "    return addresses\n",
    "\n",
    "\n",
    "df['address'] = update_geolocation_with_progress(df)\n"
   ]
  },
  {
   "cell_type": "code",
   "execution_count": 40,
   "metadata": {},
   "outputs": [
    {
     "data": {
      "text/html": [
       "<div>\n",
       "<style scoped>\n",
       "    .dataframe tbody tr th:only-of-type {\n",
       "        vertical-align: middle;\n",
       "    }\n",
       "\n",
       "    .dataframe tbody tr th {\n",
       "        vertical-align: top;\n",
       "    }\n",
       "\n",
       "    .dataframe thead th {\n",
       "        text-align: right;\n",
       "    }\n",
       "</style>\n",
       "<table border=\"1\" class=\"dataframe\">\n",
       "  <thead>\n",
       "    <tr style=\"text-align: right;\">\n",
       "      <th></th>\n",
       "      <th>GEOCODIGO_MUNICIPIO</th>\n",
       "      <th>NOME_MUNICIPIO</th>\n",
       "      <th>LONGITUDE</th>\n",
       "      <th>LATITUDE</th>\n",
       "      <th>address</th>\n",
       "    </tr>\n",
       "  </thead>\n",
       "  <tbody>\n",
       "    <tr>\n",
       "      <th>0</th>\n",
       "      <td>1100015</td>\n",
       "      <td>ALTA FLORESTA D'OESTE</td>\n",
       "      <td>-61.999824</td>\n",
       "      <td>-11.935540</td>\n",
       "      <td>Rua Goiás,Alta Floresta D'Oeste,Alta Floresta ...</td>\n",
       "    </tr>\n",
       "    <tr>\n",
       "      <th>1</th>\n",
       "      <td>1100023</td>\n",
       "      <td>ARIQUEMES</td>\n",
       "      <td>-63.033269</td>\n",
       "      <td>-9.908463</td>\n",
       "      <td>Travessa Aquariquara,Setor Institucional,Ariqu...</td>\n",
       "    </tr>\n",
       "    <tr>\n",
       "      <th>2</th>\n",
       "      <td>1100031</td>\n",
       "      <td>CABIXI</td>\n",
       "      <td>-60.544314</td>\n",
       "      <td>-13.499763</td>\n",
       "      <td>Avenida Tamoios,Cabixi,Cabixi,Região Geográfic...</td>\n",
       "    </tr>\n",
       "    <tr>\n",
       "      <th>3</th>\n",
       "      <td>1100049</td>\n",
       "      <td>CACOAL</td>\n",
       "      <td>-61.442944</td>\n",
       "      <td>-11.433865</td>\n",
       "      <td>Rua Duque de Caxias,Cristal do Arco Iris,Cacoa...</td>\n",
       "    </tr>\n",
       "    <tr>\n",
       "      <th>4</th>\n",
       "      <td>1100056</td>\n",
       "      <td>CEREJEIRAS</td>\n",
       "      <td>-60.818426</td>\n",
       "      <td>-13.195033</td>\n",
       "      <td>Rua Roraima,Cerejeiras,Cerejeiras,Região Geogr...</td>\n",
       "    </tr>\n",
       "  </tbody>\n",
       "</table>\n",
       "</div>"
      ],
      "text/plain": [
       "   GEOCODIGO_MUNICIPIO         NOME_MUNICIPIO  LONGITUDE   LATITUDE  \\\n",
       "0              1100015  ALTA FLORESTA D'OESTE -61.999824 -11.935540   \n",
       "1              1100023              ARIQUEMES -63.033269  -9.908463   \n",
       "2              1100031                 CABIXI -60.544314 -13.499763   \n",
       "3              1100049                 CACOAL -61.442944 -11.433865   \n",
       "4              1100056             CEREJEIRAS -60.818426 -13.195033   \n",
       "\n",
       "                                             address  \n",
       "0  Rua Goiás,Alta Floresta D'Oeste,Alta Floresta ...  \n",
       "1  Travessa Aquariquara,Setor Institucional,Ariqu...  \n",
       "2  Avenida Tamoios,Cabixi,Cabixi,Região Geográfic...  \n",
       "3  Rua Duque de Caxias,Cristal do Arco Iris,Cacoa...  \n",
       "4  Rua Roraima,Cerejeiras,Cerejeiras,Região Geogr...  "
      ]
     },
     "execution_count": 40,
     "metadata": {},
     "output_type": "execute_result"
    }
   ],
   "source": [
    "df.head(5)"
   ]
  },
  {
   "cell_type": "code",
   "execution_count": 41,
   "metadata": {},
   "outputs": [],
   "source": [
    "# Exportando o novo dataframe com as informações obtidas\n",
    "\n",
    "df.to_excel('Geocodificacao_form.xlsx', sheet_name='Coordenadas')"
   ]
  }
 ],
 "metadata": {
  "kernelspec": {
   "display_name": "Python 3 (ipykernel)",
   "language": "python",
   "name": "python3"
  },
  "language_info": {
   "codemirror_mode": {
    "name": "ipython",
    "version": 3
   },
   "file_extension": ".py",
   "mimetype": "text/x-python",
   "name": "python",
   "nbconvert_exporter": "python",
   "pygments_lexer": "ipython3",
   "version": "3.11.5"
  }
 },
 "nbformat": 4,
 "nbformat_minor": 2
}
