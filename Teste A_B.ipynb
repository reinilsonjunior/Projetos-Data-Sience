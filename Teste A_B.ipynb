{
 "cells": [
  {
   "cell_type": "markdown",
   "metadata": {},
   "source": [
    "\n",
    "## <font color='grey'>Clientes que acessaram a nova landing page tem maior conversão de vendas ?</font>"
   ]
  },
  {
   "cell_type": "markdown",
   "metadata": {},
   "source": [
    "### Visão Geral\n",
    "\n",
    "O teste A/B é uma metodologia utilizada para comparar duas versões de uma variável, como um produto ou uma campanha de marketing, com o objetivo de identificar qual delas apresenta melhor desempenho. Essa técnica é fundamental na Ciência de Dados e é amplamente empregada por organizações para tomada de decisões, permitindo otimizar produtos e campanhas de marketing de forma a maximizar o resultado financeiro da organização."
   ]
  },
  {
   "cell_type": "markdown",
   "metadata": {},
   "source": [
    "\n",
    "![](https://miro.medium.com/v2/resize:fit:720/format:webp/1*k5Go3CuJfGI3j2bERwN0xA.png)"
   ]
  },
  {
   "cell_type": "markdown",
   "metadata": {},
   "source": [
    "###  O Que São Testes A/B?\n",
    "\n",
    "Trata-se de um método estatístico de comparação de duas versões de um produto ou serviço (A e B) para determinar qual é mais eficaz na análise.\n",
    "É comumente utilizado em marketin e desenvolvimento de novos produtos, interface de uma aplicativo móvel, uma landing page para atingimento de uma\n",
    "meta específica, tais como taxa de conversão, maximizar a receita, volume de vendas, etc.\n",
    "Essas duas versões são atribuídas de forma aleatória aos diferentes usuários. Os resultados do teste são comparados para concluir qual a versão  é mais eficaz para atingir o resultado desejado."
   ]
  },
  {
   "cell_type": "markdown",
   "metadata": {},
   "source": [
    "\n",
    "![](https://neilpatel.com/wp-content/uploads/2016/08/diferenca-entre-controle-e-variacao-no-teste-a-b.png)"
   ]
  },
  {
   "cell_type": "markdown",
   "metadata": {},
   "source": [
    "## Teste de Hipóteses: \n",
    "\n",
    "Clientes que acessam a nova Landing Page tem uma maior conversão de vendas Produtos?\n",
    "\n",
    "Grupo Controle: Receberão a variante de email do tipo A.\n",
    "\n",
    "Grupo Tratamento: Receberão a variante de email do tipo B.\n",
    "\n",
    "Na presente análise, selecionaremos 15000 clientes - 7500 para cada um dos grupos controle e tratamento. A amostragem aleatória nos ajuda a elimninar vieses causados em decorrência do estudo.\n",
    "\n",
    "Formular a hipótese é essencial pois nos auxilia na interpretação dos resultados obtidos.\n",
    "\n",
    "Dessa forma, definiremos as seguintes hipóteses:\n",
    "\n",
    "- H0 (hipótese nula): PB - PA = 0\n",
    "- H1 (hipótese alternativa): PB - PA > 0\n",
    "\n",
    "H0 nos diz que a diferença de probabilidade dos dois grupos é igual a zero.\n",
    "\n",
    "H1 nos diz que a diferença de probabilidade dos dois grupos é maior do que zero."
   ]
  },
  {
   "cell_type": "code",
   "execution_count": 52,
   "metadata": {},
   "outputs": [
    {
     "name": "stdout",
     "output_type": "stream",
     "text": [
      "Versão da Linguagem Python usada nessa análise: 3.11.5\n"
     ]
    }
   ],
   "source": [
    "# Versão da Linguagem Python\n",
    "from platform import python_version\n",
    "print('Versão da Linguagem Python usada nessa análise:', python_version())"
   ]
  },
  {
   "cell_type": "markdown",
   "metadata": {},
   "source": [
    "## Carregando os pacotes e o conjunto de dados"
   ]
  },
  {
   "cell_type": "markdown",
   "metadata": {},
   "source": [
    "Fonte : https://www.kaggle.com/datasets/zhangluyuan/ab-testing?resource=download"
   ]
  },
  {
   "cell_type": "code",
   "execution_count": 31,
   "metadata": {},
   "outputs": [],
   "source": [
    "# Imports\n",
    "import datetime\n",
    "import matplotlib\n",
    "import numpy as np\n",
    "import pandas as pd\n",
    "import matplotlib.pyplot as plt\n",
    "import statsmodels.stats.api as sms\n",
    "import seaborn as sns\n",
    "import scipy.stats as stats\n",
    "import warnings\n",
    "from statsmodels.stats.proportion import proportions_ztest, proportion_confint\n",
    "import scipy.stats as scs\n",
    "warnings.filterwarnings('ignore')\n"
   ]
  },
  {
   "cell_type": "code",
   "execution_count": 32,
   "metadata": {},
   "outputs": [
    {
     "name": "stdout",
     "output_type": "stream",
     "text": [
      "seaborn    : 0.13.2\n",
      "matplotlib : 3.9.1\n",
      "numpy      : 1.24.4\n",
      "pandas     : 2.1.4\n",
      "statsmodels: 0.14.2\n",
      "scipy      : 1.13.1\n",
      "\n"
     ]
    }
   ],
   "source": [
    "# Versões dos pacotes usados neste jupyter notebook\n",
    "%reload_ext watermark\n",
    "%watermark --iversions"
   ]
  },
  {
   "cell_type": "code",
   "execution_count": 33,
   "metadata": {},
   "outputs": [
    {
     "data": {
      "text/html": [
       "<div>\n",
       "<style scoped>\n",
       "    .dataframe tbody tr th:only-of-type {\n",
       "        vertical-align: middle;\n",
       "    }\n",
       "\n",
       "    .dataframe tbody tr th {\n",
       "        vertical-align: top;\n",
       "    }\n",
       "\n",
       "    .dataframe thead th {\n",
       "        text-align: right;\n",
       "    }\n",
       "</style>\n",
       "<table border=\"1\" class=\"dataframe\">\n",
       "  <thead>\n",
       "    <tr style=\"text-align: right;\">\n",
       "      <th></th>\n",
       "      <th>user_id</th>\n",
       "      <th>timestamp</th>\n",
       "      <th>group</th>\n",
       "      <th>landing_page</th>\n",
       "      <th>converted</th>\n",
       "    </tr>\n",
       "  </thead>\n",
       "  <tbody>\n",
       "    <tr>\n",
       "      <th>0</th>\n",
       "      <td>851104</td>\n",
       "      <td>2017-01-21 22:11:48.556739</td>\n",
       "      <td>control</td>\n",
       "      <td>old_page</td>\n",
       "      <td>0</td>\n",
       "    </tr>\n",
       "    <tr>\n",
       "      <th>1</th>\n",
       "      <td>804228</td>\n",
       "      <td>2017-01-12 08:01:45.159739</td>\n",
       "      <td>control</td>\n",
       "      <td>old_page</td>\n",
       "      <td>0</td>\n",
       "    </tr>\n",
       "    <tr>\n",
       "      <th>2</th>\n",
       "      <td>661590</td>\n",
       "      <td>2017-01-11 16:55:06.154213</td>\n",
       "      <td>treatment</td>\n",
       "      <td>new_page</td>\n",
       "      <td>0</td>\n",
       "    </tr>\n",
       "    <tr>\n",
       "      <th>3</th>\n",
       "      <td>853541</td>\n",
       "      <td>2017-01-08 18:28:03.143765</td>\n",
       "      <td>treatment</td>\n",
       "      <td>new_page</td>\n",
       "      <td>0</td>\n",
       "    </tr>\n",
       "    <tr>\n",
       "      <th>4</th>\n",
       "      <td>864975</td>\n",
       "      <td>2017-01-21 01:52:26.210827</td>\n",
       "      <td>control</td>\n",
       "      <td>old_page</td>\n",
       "      <td>1</td>\n",
       "    </tr>\n",
       "  </tbody>\n",
       "</table>\n",
       "</div>"
      ],
      "text/plain": [
       "   user_id                   timestamp      group landing_page  converted\n",
       "0   851104  2017-01-21 22:11:48.556739    control     old_page          0\n",
       "1   804228  2017-01-12 08:01:45.159739    control     old_page          0\n",
       "2   661590  2017-01-11 16:55:06.154213  treatment     new_page          0\n",
       "3   853541  2017-01-08 18:28:03.143765  treatment     new_page          0\n",
       "4   864975  2017-01-21 01:52:26.210827    control     old_page          1"
      ]
     },
     "execution_count": 33,
     "metadata": {},
     "output_type": "execute_result"
    }
   ],
   "source": [
    "# Carregando os dados\n",
    "\n",
    "df = pd.read_csv('ab_data.csv')\n",
    "df.head(5)"
   ]
  },
  {
   "cell_type": "markdown",
   "metadata": {},
   "source": [
    "##### O conjuntos de dados é composto por:\n",
    "\n",
    "\n",
    "\n",
    "1. User_id : Contém os ID's dos usuários ;\n",
    "\n",
    "2. Timestamp: Data e hora de acesso à landing page ;\n",
    "\n",
    "3. Group: Informações relativos ao grupo controle ou tratamento ;\n",
    "\n",
    "4. Landing_page: Informações relativas a landing page nova ou antiga ;\n",
    "\n",
    "5. Converted: Informa se houve conversão (1) ou senão não conversão (0) .\n",
    "\n"
   ]
  },
  {
   "cell_type": "code",
   "execution_count": 34,
   "metadata": {},
   "outputs": [
    {
     "name": "stdout",
     "output_type": "stream",
     "text": [
      "<class 'pandas.core.series.Series'>\n",
      "Index: 290584 entries, 805339 to 715931\n",
      "Series name: count\n",
      "Non-Null Count   Dtype\n",
      "--------------   -----\n",
      "290584 non-null  int64\n",
      "dtypes: int64(1)\n",
      "memory usage: 4.4 MB\n"
     ]
    }
   ],
   "source": [
    "# Total de usuários com multiplas sessoes\n",
    "\n",
    "cnt_sessao = df['user_id'].value_counts(ascending = False)\n",
    "cnt_sessao.info()"
   ]
  },
  {
   "cell_type": "code",
   "execution_count": 35,
   "metadata": {},
   "outputs": [
    {
     "data": {
      "text/plain": [
       "user_id          int64\n",
       "timestamp       object\n",
       "group           object\n",
       "landing_page    object\n",
       "converted        int64\n",
       "dtype: object"
      ]
     },
     "execution_count": 35,
     "metadata": {},
     "output_type": "execute_result"
    }
   ],
   "source": [
    "df.dtypes"
   ]
  },
  {
   "cell_type": "code",
   "execution_count": 36,
   "metadata": {},
   "outputs": [
    {
     "data": {
      "text/plain": [
       "'2017-01-24 13:41:54.460509'"
      ]
     },
     "execution_count": 36,
     "metadata": {},
     "output_type": "execute_result"
    }
   ],
   "source": [
    "# Data máxima\n",
    "\n",
    "df['timestamp'].max()"
   ]
  },
  {
   "cell_type": "code",
   "execution_count": 37,
   "metadata": {},
   "outputs": [
    {
     "data": {
      "text/plain": [
       "'2017-01-02 13:42:05.378582'"
      ]
     },
     "execution_count": 37,
     "metadata": {},
     "output_type": "execute_result"
    }
   ],
   "source": [
    "# Data mínima\n",
    "\n",
    "df['timestamp'].min()"
   ]
  },
  {
   "cell_type": "code",
   "execution_count": 38,
   "metadata": {},
   "outputs": [
    {
     "data": {
      "text/plain": [
       "user_id         0\n",
       "timestamp       0\n",
       "group           0\n",
       "landing_page    0\n",
       "converted       0\n",
       "dtype: int64"
      ]
     },
     "execution_count": 38,
     "metadata": {},
     "output_type": "execute_result"
    }
   ],
   "source": [
    "# Checando valores nulos\n",
    "\n",
    "df.isnull().sum()"
   ]
  },
  {
   "cell_type": "code",
   "execution_count": 39,
   "metadata": {},
   "outputs": [],
   "source": [
    "# Excluir usuários\n",
    "\n",
    "excluir_usuarios = cnt_sessao[cnt_sessao > 1].index\n",
    "df = df[~df['user_id'].isin(excluir_usuarios)]"
   ]
  },
  {
   "cell_type": "code",
   "execution_count": 40,
   "metadata": {},
   "outputs": [
    {
     "data": {
      "text/plain": [
       "group\n",
       "treatment    143397\n",
       "control      143293\n",
       "Name: count, dtype: int64"
      ]
     },
     "execution_count": 40,
     "metadata": {},
     "output_type": "execute_result"
    }
   ],
   "source": [
    "# Proporção das variantes mostradas aos usuários\n",
    "\n",
    "df.group.value_counts()"
   ]
  },
  {
   "cell_type": "code",
   "execution_count": 41,
   "metadata": {},
   "outputs": [
    {
     "data": {
      "text/plain": [
       "converted\n",
       "0    252445\n",
       "1     34245\n",
       "Name: count, dtype: int64"
      ]
     },
     "execution_count": 41,
     "metadata": {},
     "output_type": "execute_result"
    }
   ],
   "source": [
    "# Proporção de resultado de conversao\n",
    "\n",
    "df.converted.value_counts()"
   ]
  },
  {
   "cell_type": "code",
   "execution_count": 42,
   "metadata": {},
   "outputs": [
    {
     "data": {
      "text/html": [
       "<div>\n",
       "<style scoped>\n",
       "    .dataframe tbody tr th:only-of-type {\n",
       "        vertical-align: middle;\n",
       "    }\n",
       "\n",
       "    .dataframe tbody tr th {\n",
       "        vertical-align: top;\n",
       "    }\n",
       "\n",
       "    .dataframe thead th {\n",
       "        text-align: right;\n",
       "    }\n",
       "</style>\n",
       "<table border=\"1\" class=\"dataframe\">\n",
       "  <thead>\n",
       "    <tr style=\"text-align: right;\">\n",
       "      <th></th>\n",
       "      <th>index</th>\n",
       "      <th>user_id</th>\n",
       "      <th>timestamp</th>\n",
       "      <th>group</th>\n",
       "      <th>landing_page</th>\n",
       "      <th>converted</th>\n",
       "    </tr>\n",
       "  </thead>\n",
       "  <tbody>\n",
       "    <tr>\n",
       "      <th>0</th>\n",
       "      <td>13255</td>\n",
       "      <td>647219</td>\n",
       "      <td>2017-01-16 11:32:09.922735</td>\n",
       "      <td>control</td>\n",
       "      <td>old_page</td>\n",
       "      <td>0</td>\n",
       "    </tr>\n",
       "    <tr>\n",
       "      <th>1</th>\n",
       "      <td>3503</td>\n",
       "      <td>677928</td>\n",
       "      <td>2017-01-15 20:54:56.411448</td>\n",
       "      <td>control</td>\n",
       "      <td>old_page</td>\n",
       "      <td>0</td>\n",
       "    </tr>\n",
       "    <tr>\n",
       "      <th>2</th>\n",
       "      <td>123237</td>\n",
       "      <td>836230</td>\n",
       "      <td>2017-01-04 23:24:46.298369</td>\n",
       "      <td>control</td>\n",
       "      <td>old_page</td>\n",
       "      <td>0</td>\n",
       "    </tr>\n",
       "    <tr>\n",
       "      <th>3</th>\n",
       "      <td>29129</td>\n",
       "      <td>725987</td>\n",
       "      <td>2017-01-03 17:55:49.923067</td>\n",
       "      <td>control</td>\n",
       "      <td>old_page</td>\n",
       "      <td>0</td>\n",
       "    </tr>\n",
       "    <tr>\n",
       "      <th>4</th>\n",
       "      <td>98235</td>\n",
       "      <td>856603</td>\n",
       "      <td>2017-01-24 06:58:19.640487</td>\n",
       "      <td>control</td>\n",
       "      <td>old_page</td>\n",
       "      <td>0</td>\n",
       "    </tr>\n",
       "    <tr>\n",
       "      <th>...</th>\n",
       "      <td>...</td>\n",
       "      <td>...</td>\n",
       "      <td>...</td>\n",
       "      <td>...</td>\n",
       "      <td>...</td>\n",
       "      <td>...</td>\n",
       "    </tr>\n",
       "    <tr>\n",
       "      <th>14995</th>\n",
       "      <td>135348</td>\n",
       "      <td>658054</td>\n",
       "      <td>2017-01-11 20:37:55.923452</td>\n",
       "      <td>treatment</td>\n",
       "      <td>new_page</td>\n",
       "      <td>0</td>\n",
       "    </tr>\n",
       "    <tr>\n",
       "      <th>14996</th>\n",
       "      <td>168534</td>\n",
       "      <td>655820</td>\n",
       "      <td>2017-01-06 17:36:04.560614</td>\n",
       "      <td>treatment</td>\n",
       "      <td>new_page</td>\n",
       "      <td>0</td>\n",
       "    </tr>\n",
       "    <tr>\n",
       "      <th>14997</th>\n",
       "      <td>287422</td>\n",
       "      <td>872367</td>\n",
       "      <td>2017-01-14 16:33:42.292097</td>\n",
       "      <td>treatment</td>\n",
       "      <td>new_page</td>\n",
       "      <td>0</td>\n",
       "    </tr>\n",
       "    <tr>\n",
       "      <th>14998</th>\n",
       "      <td>74765</td>\n",
       "      <td>637700</td>\n",
       "      <td>2017-01-06 17:00:31.947401</td>\n",
       "      <td>treatment</td>\n",
       "      <td>new_page</td>\n",
       "      <td>0</td>\n",
       "    </tr>\n",
       "    <tr>\n",
       "      <th>14999</th>\n",
       "      <td>119360</td>\n",
       "      <td>931655</td>\n",
       "      <td>2017-01-14 01:24:34.196794</td>\n",
       "      <td>treatment</td>\n",
       "      <td>new_page</td>\n",
       "      <td>0</td>\n",
       "    </tr>\n",
       "  </tbody>\n",
       "</table>\n",
       "<p>15000 rows × 6 columns</p>\n",
       "</div>"
      ],
      "text/plain": [
       "        index  user_id                   timestamp      group landing_page  \\\n",
       "0       13255   647219  2017-01-16 11:32:09.922735    control     old_page   \n",
       "1        3503   677928  2017-01-15 20:54:56.411448    control     old_page   \n",
       "2      123237   836230  2017-01-04 23:24:46.298369    control     old_page   \n",
       "3       29129   725987  2017-01-03 17:55:49.923067    control     old_page   \n",
       "4       98235   856603  2017-01-24 06:58:19.640487    control     old_page   \n",
       "...       ...      ...                         ...        ...          ...   \n",
       "14995  135348   658054  2017-01-11 20:37:55.923452  treatment     new_page   \n",
       "14996  168534   655820  2017-01-06 17:36:04.560614  treatment     new_page   \n",
       "14997  287422   872367  2017-01-14 16:33:42.292097  treatment     new_page   \n",
       "14998   74765   637700  2017-01-06 17:00:31.947401  treatment     new_page   \n",
       "14999  119360   931655  2017-01-14 01:24:34.196794  treatment     new_page   \n",
       "\n",
       "       converted  \n",
       "0              0  \n",
       "1              0  \n",
       "2              0  \n",
       "3              0  \n",
       "4              0  \n",
       "...          ...  \n",
       "14995          0  \n",
       "14996          0  \n",
       "14997          0  \n",
       "14998          0  \n",
       "14999          0  \n",
       "\n",
       "[15000 rows x 6 columns]"
      ]
     },
     "execution_count": 42,
     "metadata": {},
     "output_type": "execute_result"
    }
   ],
   "source": [
    "# Definição das amostras aleatórias no conjunto de dados para os dois grupos\n",
    "\n",
    "amostra_control = df[df['group'] =='control'].sample( n = 7500, random_state = 32)\n",
    "amostra_treatment = df[df['group'] == 'treatment'].sample( n = 7500 , random_state = 32)\n",
    "teste_ab = pd.concat([amostra_control,amostra_treatment], axis = 0)\n",
    "teste_ab.reset_index()"
   ]
  },
  {
   "cell_type": "code",
   "execution_count": 43,
   "metadata": {},
   "outputs": [
    {
     "data": {
      "text/html": [
       "<div>\n",
       "<style scoped>\n",
       "    .dataframe tbody tr th:only-of-type {\n",
       "        vertical-align: middle;\n",
       "    }\n",
       "\n",
       "    .dataframe tbody tr th {\n",
       "        vertical-align: top;\n",
       "    }\n",
       "\n",
       "    .dataframe thead th {\n",
       "        text-align: right;\n",
       "    }\n",
       "</style>\n",
       "<table border=\"1\" class=\"dataframe\">\n",
       "  <thead>\n",
       "    <tr style=\"text-align: right;\">\n",
       "      <th></th>\n",
       "      <th>taxa_conversao</th>\n",
       "      <th>desvio_padrao</th>\n",
       "      <th>erro_padrao</th>\n",
       "      <th>total</th>\n",
       "      <th>total_amostral</th>\n",
       "    </tr>\n",
       "    <tr>\n",
       "      <th>group</th>\n",
       "      <th></th>\n",
       "      <th></th>\n",
       "      <th></th>\n",
       "      <th></th>\n",
       "      <th></th>\n",
       "    </tr>\n",
       "  </thead>\n",
       "  <tbody>\n",
       "    <tr>\n",
       "      <th>control</th>\n",
       "      <td>0.1228</td>\n",
       "      <td>0.328229</td>\n",
       "      <td>0.003790</td>\n",
       "      <td>921</td>\n",
       "      <td>7500</td>\n",
       "    </tr>\n",
       "    <tr>\n",
       "      <th>treatment</th>\n",
       "      <td>0.1184</td>\n",
       "      <td>0.323103</td>\n",
       "      <td>0.003731</td>\n",
       "      <td>888</td>\n",
       "      <td>7500</td>\n",
       "    </tr>\n",
       "  </tbody>\n",
       "</table>\n",
       "</div>"
      ],
      "text/plain": [
       "           taxa_conversao  desvio_padrao  erro_padrao  total  total_amostral\n",
       "group                                                                       \n",
       "control            0.1228       0.328229     0.003790    921            7500\n",
       "treatment          0.1184       0.323103     0.003731    888            7500"
      ]
     },
     "execution_count": 43,
     "metadata": {},
     "output_type": "execute_result"
    }
   ],
   "source": [
    "#  Calcular o desvio padrao amostral (std_dev) e  o erro padrao da media (std_ error)\n",
    "\n",
    "\n",
    "# Funções lambda para desvio padrão e erro padrão\n",
    "std_dev = lambda x: np.std(x, ddof=1)\n",
    "std_error = lambda x: stats.sem(x, ddof=1)\n",
    "\n",
    "# Calculando o total amostral\n",
    "total_amostral = teste_ab.groupby('group').count()\n",
    "\n",
    "# Agrupamento e cálculo das métricas\n",
    "taxa_conversao = teste_ab.groupby('group')['converted'].agg([np.mean, std_dev, std_error, np.sum])\n",
    "\n",
    "# Renomeando as colunas com quatro nomes (já que há quatro colunas)\n",
    "taxa_conversao.columns = ['taxa_conversao', 'desvio_padrao', 'erro_padrao', 'total']\n",
    "\n",
    "# Adicionando a coluna 'total_amostra' do DataFrame 'total_amostral'\n",
    "taxa_conversao['total_amostral'] = total_amostral['user_id']\n",
    "\n",
    "# Exibindo o resultado\n",
    "taxa_conversao\n"
   ]
  },
  {
   "cell_type": "code",
   "execution_count": 44,
   "metadata": {},
   "outputs": [],
   "source": [
    "# Obtemos os valores da variante A\n",
    "\n",
    "conversao_A = taxa_conversao['total'][0]\n",
    "total_A = taxa_conversao['total_amostral'][0]\n",
    "taxa_A = taxa_conversao['taxa_conversao'][0]"
   ]
  },
  {
   "cell_type": "code",
   "execution_count": 45,
   "metadata": {},
   "outputs": [
    {
     "name": "stdout",
     "output_type": "stream",
     "text": [
      "921\n",
      "7500\n",
      "0.1228\n"
     ]
    }
   ],
   "source": [
    "# Imprime os valores de A\n",
    "\n",
    "print(conversao_A)\n",
    "print(total_A)\n",
    "print(taxa_A)"
   ]
  },
  {
   "cell_type": "code",
   "execution_count": 46,
   "metadata": {},
   "outputs": [],
   "source": [
    "# Obtemos os valores da variante B\n",
    "\n",
    "conversao_B = taxa_conversao['total'][1]\n",
    "total_B = taxa_conversao['total_amostral'][1]\n",
    "taxa_B = taxa_conversao['taxa_conversao'][1]"
   ]
  },
  {
   "cell_type": "code",
   "execution_count": 47,
   "metadata": {},
   "outputs": [
    {
     "name": "stdout",
     "output_type": "stream",
     "text": [
      "888\n",
      "7500\n",
      "0.1184\n"
     ]
    }
   ],
   "source": [
    "# Imprime os valores de B\n",
    "\n",
    "print(conversao_B)\n",
    "print(total_B)\n",
    "print(taxa_B)"
   ]
  },
  {
   "cell_type": "markdown",
   "metadata": {},
   "source": [
    "## Plot da Distribuição\n",
    "\n",
    "Criamos o Plot da distribuição da diferença entre as duas amostras e comparamos os resultados."
   ]
  },
  {
   "cell_type": "markdown",
   "metadata": {},
   "source": [
    "Podemos comparar os dois grupos traçando a distribuição do grupo de controle e calculando a probabilidade de obter o resultado de nosso grupo de teste."
   ]
  },
  {
   "cell_type": "code",
   "execution_count": 48,
   "metadata": {},
   "outputs": [
    {
     "data": {
      "text/plain": [
       "Text(0, 0.5, 'Probabilidade')"
      ]
     },
     "execution_count": 48,
     "metadata": {},
     "output_type": "execute_result"
    },
    {
     "data": {
      "image/png": "[encoded data removed]",
      "text/plain": [
       "<Figure size 1400x600 with 1 Axes>"
      ]
     },
     "metadata": {},
     "output_type": "display_data"
    }
   ],
   "source": [
    "# Plot da distribuição do grupo A (controle)\n",
    "\n",
    "# Área de plotagem\n",
    "fig, ax = plt.subplots(figsize = (14,6))\n",
    "\n",
    "# Teste de A\n",
    "x = np.linspace(conversao_A - 49, conversao_A + 50, 100)\n",
    "y = scs.binom(total_A, taxa_A).pmf(x)\n",
    "\n",
    "# Cria a barra vertical\n",
    "ax.bar(x, y, alpha = 0.5)\n",
    "ax.axvline(x = taxa_B * total_A, c = 'magenta', alpha = 0.75, linestyle = '--')\n",
    "\n",
    "# Labels\n",
    "plt.xlabel('Conversão')\n",
    "plt.ylabel('Probabilidade')"
   ]
  },
  {
   "cell_type": "code",
   "execution_count": 49,
   "metadata": {},
   "outputs": [
    {
     "data": {
      "text/plain": [
       "Text(0, 0.5, 'Probabilidade')"
      ]
     },
     "execution_count": 49,
     "metadata": {},
     "output_type": "execute_result"
    },
    {
     "data": {
      "image/png": "[encoded data removed]",
      "text/plain": [
       "<Figure size 1400x600 with 1 Axes>"
      ]
     },
     "metadata": {},
     "output_type": "display_data"
    }
   ],
   "source": [
    "# Plot da distribuição dos 2 grupos\n",
    "\n",
    "# Área de plotagem \n",
    "fig, ax = plt.subplots(figsize = (14,6))\n",
    "\n",
    "# Gráfico de A\n",
    "xA = np.linspace(conversao_A - 49, conversao_A + 50, 100)\n",
    "yA = scs.binom(total_A, taxa_A).pmf(xA)\n",
    "ax.bar(xA, yA, alpha = 0.5)\n",
    "\n",
    "# Gráfico de B\n",
    "xB = np.linspace(conversao_B - 49, conversao_B + 50, 100)\n",
    "yB = scs.binom(total_B, taxa_B).pmf(xB)\n",
    "ax.bar(xB, yB, alpha = 0.5)\n",
    "\n",
    "# Labels\n",
    "plt.xlabel('Conversão')\n",
    "plt.ylabel('Probabilidade')"
   ]
  },
  {
   "cell_type": "markdown",
   "metadata": {},
   "source": [
    "Em relação a plotagem das duas distribuições analisadas:\n",
    "\n",
    "Como as distribuições têm seus picos em diferentes intervalos (920 para A e 800 para B), o teste A/B pode sugerir que A performa melhor que B em termos de conversão. Dado que o objetivo do estudo é compreender o grau de conversão das diferentes versões de landing page, grupo A parece ter uma média de conversão maior.\n",
    "\n",
    "Ambas as distribuições mostram alguma variabilidade. Isso implica que, mesmo que o grupo A tenha uma conversão média maior, há alguns usuários no grupo B que tiveram conversões semelhantes aos do grupo A, conforme indicado pela sobreposição demonstrado acima.\n",
    "\n",
    "Os testes estatísticos abaixo irão nos auxiliar para decisão de negócio."
   ]
  },
  {
   "cell_type": "code",
   "execution_count": 50,
   "metadata": {},
   "outputs": [
    {
     "name": "stdout",
     "output_type": "stream",
     "text": [
      "RESULTADOS DA ANÁLISE: \n",
      "Z Statistic: 0.83\n",
      "P - Value : 0.41\n",
      "CI Control Group : [0.115,0.130]\n",
      "CI Treatment Group :[0.111, 0.126]\n"
     ]
    }
   ],
   "source": [
    "control_results = teste_ab[teste_ab['group'] == 'control']['converted']\n",
    "treatment_results = teste_ab[teste_ab['group'] == 'treatment']['converted']\n",
    "\n",
    "num_control = control_results.count()\n",
    "num_treatment = treatment_results.count()\n",
    "successes = [control_results.sum(), treatment_results.sum()]\n",
    "n_obs = [num_control, num_treatment]\n",
    "\n",
    "zstat, pval = proportions_ztest ( count = successes, nobs= n_obs)\n",
    "\n",
    "(lower_ctl, lower_treat),(upper_ctl, upper_treat) = proportion_confint(count = successes, nobs= n_obs, alpha= 0.05)\n",
    "\n",
    "print ( 'RESULTADOS DA ANÁLISE: ')\n",
    "print(f'Z Statistic: {zstat:.2f}')\n",
    "print (f'P - Value : {pval:.2f}')\n",
    "print (f'CI Control Group : [{lower_ctl:.3f},{upper_ctl:.3f}]')\n",
    "print (f'CI Treatment Group :[{lower_treat:.3f}, {upper_treat:.3f}]')"
   ]
  },
  {
   "cell_type": "markdown",
   "metadata": {},
   "source": [
    "### Conclusão:\n",
    "\n",
    "Como podemos observar o valor-p foi de 0,41 para o presente teste A/B. Considerando um nível de significância de 0,05\n",
    "não temos evidências para rejeitar a hipótese nula.\n",
    "Isso quer dizer que tais resultados ocorreram devido ao acaso, e dessa forma, não são estatisticamente significativos par afirmamos que a landing page do grupo de tratamento tem uma maior conversão.\n",
    "\n"
   ]
  },
  {
   "cell_type": "markdown",
   "metadata": {},
   "source": [
    "# Fim"
   ]
  }
 ],
 "metadata": {
  "kernelspec": {
   "display_name": "Python 3 (ipykernel)",
   "language": "python",
   "name": "python3"
  },
  "language_info": {
   "codemirror_mode": {
    "name": "ipython",
    "version": 3
   },
   "file_extension": ".py",
   "mimetype": "text/x-python",
   "name": "python",
   "nbconvert_exporter": "python",
   "pygments_lexer": "ipython3",
   "version": "3.11.5"
  }
 },
 "nbformat": 4,
 "nbformat_minor": 2
}
