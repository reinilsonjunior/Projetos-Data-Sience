{
 "cells": [
  {
   "cell_type": "markdown",
   "metadata": {},
   "source": [
    "#### <font color='orange'>Webscrapping para Preços de imóveis</font>"
   ]
  },
  {
   "cell_type": "markdown",
   "metadata": {},
   "source": [
    "##### <font color='white'>\n",
    "\n",
    "**Explicação do Código**\n",
    "\n",
    " <br>\n",
    "\n",
    " **Objetivo:** Utilizar técnicas Web Scraping ou Raspagem de dados para automatizar a coleta dados de imóveis e organizá-los em um DataFrame de uma forma eficiente, com o objetivo de analisar e visualizar as informações mais relavantes para nossa análise\n",
    " \n",
    " <br>\n",
    "\n",
    "1. **Importar Bibliotecas:**\n",
    "\n",
    "- **Cloudscraper:** É utilizada para contornar algumas proteções de bots, como aqueles criadois pela Cloudflare, facilitabndo a extração dos dados de alguns sites;\n",
    "- **Pandas:** para manipulação de DataFrames;\n",
    "- **Json:** conversão dos dados em JSON.\n",
    "\n",
    "</font>"
   ]
  },
  {
   "cell_type": "code",
   "execution_count": 22,
   "metadata": {},
   "outputs": [],
   "source": [
    "import pandas as pd\n",
    "import json\n",
    "import cloudscraper\n",
    "from parsel import Selector"
   ]
  },
  {
   "cell_type": "code",
   "execution_count": 23,
   "metadata": {},
   "outputs": [
    {
     "name": "stdout",
     "output_type": "stream",
     "text": [
      "Dados salvos para olx_houses_bh.json\n",
      "Dados exportados para imóveis belo horizonte\n"
     ]
    }
   ],
   "source": [
    "\n",
    "# Função para coletar dados de imóveis\n",
    "def scrape_olx_houses(pages=100):\n",
    "    scraper = cloudscraper.create_scraper()\n",
    "    houses_data_bh = []\n",
    "\n",
    "    for i in range(1, pages + 1):\n",
    "        try:\n",
    "            r = scraper.get(f'https://www.olx.com.br/imoveis/aluguel/estado-mg/belo-horizonte-e-regiao?o={i}')\n",
    "            response = Selector(text=r.text)\n",
    "            \n",
    "            script_data = response.xpath('//script[@id=\"__NEXT_DATA__\"]/text()').get()\n",
    "            if not script_data:\n",
    "                print(f\"Não foram encontrados dados na página {i}\")\n",
    "                continue\n",
    "            \n",
    "            html = json.loads(script_data)\n",
    "            houses = html.get('props', {}).get('pageProps', {}).get('ads', [])\n",
    "            \n",
    "            if not houses:\n",
    "                print(f\"Não foram encontrados dados na página {i}\")\n",
    "                continue\n",
    "            \n",
    "            for house in houses:\n",
    "                house_data = {\n",
    "                    'Titulo Imovel': house.get('title'),\n",
    "                    'Preco': house.get('price'),\n",
    "                    'Preço Antigo': house.get('oldPrice'),\n",
    "                    'Link do Anuncio': house.get('url'),\n",
    "                    'Localizacao': house.get('location'),\n",
    "                    'Detalhes': house.get('locationDetails'),\n",
    "                    'Adicionais': house.get('properties'),\n",
    "                }\n",
    "                houses_data_bh.append(house_data)\n",
    "        \n",
    "        except Exception as e:\n",
    "            print(f\"Erro ao processar a página {i}: {e}\")\n",
    "\n",
    "    return houses_data_bh\n",
    "\n",
    "# Coleta dos dados\n",
    "houses_data_bh = scrape_olx_houses()\n",
    "\n",
    "# Salvar os dados coletados em um arquivo JSON\n",
    "with open('olx_houses_bh.json', 'w', encoding='utf-8') as f:\n",
    "    json.dump(houses_data_bh, f, ensure_ascii=False, indent=4)\n",
    "\n",
    "print(\"Dados salvos para olx_houses_bh.json\")\n",
    "\n",
    "# Carregar os dados do JSON\n",
    "with open('olx_houses_bh.json', 'r', encoding='utf-8') as f:\n",
    "    houses_data_bh = json.load(f)\n",
    "\n",
    "# Criar um DataFrame a partir dos dados\n",
    "df_bh = pd.DataFrame(houses_data_bh)\n",
    "\n",
    "df_bh.to_excel('olx_houses_bh.xlsx', sheet_name='Imóveis Belo Horizonte',index=False)\n",
    "print(\"Dados exportados para imóveis belo horizonte\")"
   ]
  },
  {
   "cell_type": "code",
   "execution_count": 24,
   "metadata": {},
   "outputs": [],
   "source": [
    "#Criando uma cópia para realizar ajustes\n",
    "\n",
    "df = df_bh.copy()\n"
   ]
  },
  {
   "cell_type": "code",
   "execution_count": 25,
   "metadata": {},
   "outputs": [
    {
     "name": "stdout",
     "output_type": "stream",
     "text": [
      "Após a conversão:\n",
      "0    [{'name': 'category', 'label': 'Categoria', 'v...\n",
      "1    [{'name': 'category', 'label': 'Categoria', 'v...\n",
      "2    [{'name': 'category', 'label': 'Categoria', 'v...\n",
      "3    [{'name': 'category', 'label': 'Categoria', 'v...\n",
      "4    [{'name': 'category', 'label': 'Categoria', 'v...\n",
      "Name: Adicionais, dtype: object\n"
     ]
    }
   ],
   "source": [
    "\n",
    "# Função para corrigir e converter string JSON \n",
    "\n",
    "def correct_and_convert_json(adicional_str):\n",
    "    if isinstance(adicional_str, list):\n",
    "        # Se já for uma lista, retorná-la diretamente\n",
    "        return adicional_str\n",
    "    if adicional_str is None:\n",
    "        # Se for None, retorna uma lista vazia\n",
    "        return []\n",
    "    try:\n",
    "        # Tenta converter diretamente se for uma string\n",
    "        return ast.literal_eval(adicional_str)\n",
    "    except (ValueError, SyntaxError):\n",
    "        # Em caso de erro, tenta substituir aspas simples por duplas\n",
    "        try:\n",
    "            adicional_str = adicional_str.replace(\"'\", '\"')\n",
    "            return ast.literal_eval(adicional_str)\n",
    "        except (ValueError, SyntaxError) as e:\n",
    "            # Se ainda falhar, retorna uma lista vazia\n",
    "            print(f\"Erro ao converter: {adicional_str} -> {e}\")\n",
    "            return []\n",
    "\n",
    "# Aplicar a função de correção e conversão\n",
    "df['Adicionais'] = df['Adicionais'].apply(correct_and_convert_json)\n",
    "\n",
    "# Verificar se a conversão foi bem-sucedida\n",
    "print(\"Após a conversão:\")\n",
    "print(df['Adicionais'].head())\n",
    "\n",
    "# Função para transformar a lista de dicionários em um dicionário de colunas\n",
    "def extract_additional_details(detail_list):\n",
    "    columns = {}\n",
    "    for item in detail_list:\n",
    "        if isinstance(item, dict):  # Verifica se o item é um dicionário\n",
    "            columns[item.get('label', '')] = item.get('value', '')\n",
    "    return columns\n",
    "\n",
    "# Funcao processar o Dataframe\n",
    "\n",
    "def process_df(df):\n",
    "    df['Adicionais'] = df['Adicionais'].apply(correct_and_convert_json)\n",
    "  \n",
    "    # Aplicar a função a cada linha do Df Original\n",
    "    df_additional_details = df['Adicionais'].apply(extract_additional_details)\n",
    "    df_details = df['Detalhes'].apply(pd.Series)\n",
    "\n",
    "    # Converter a séria de dicionários em um DF\n",
    "    df_additional_details = pd.DataFrame(df_additional_details.tolist())\n",
    "\n",
    "    # Concatenar o DF original com o novo Dataframe com os detalhes adicionais pivotados\n",
    "    df_final = pd.concat([df.drop(columns =[\"Detalhes\", \"Adicionais\"]),df_details,df_additional_details], axis = 1)\n",
    "\n",
    "    # Renomear as colunas do DataFrame final\n",
    "    df_final.rename(columns={'municipality': 'Municipio', 'neighbourhood': 'Bairro','uf':'UF','ddd':'Código Área'}, inplace=True)\n",
    "\n",
    "    return df_final\n",
    "\n",
    "# Processar ambos os DataFrames\n",
    "df_final = process_df(df_bh)"
   ]
  },
  {
   "cell_type": "code",
   "execution_count": 26,
   "metadata": {},
   "outputs": [
    {
     "name": "stdout",
     "output_type": "stream",
     "text": [
      "Os resultados foram agrupados com sucesso\n"
     ]
    }
   ],
   "source": [
    "# Concatenar os resultados em um único dataframe\n",
    "\n",
    "arquivo_final = 'Imóveis_Resumo.xlsx'\n",
    "\n",
    "# Utilizar o ExcelWriter para múltiplos sheets\n",
    "\n",
    "with pd.ExcelWriter(arquivo_final) as writer:\n",
    "    df_final.to_excel(writer, sheet_name = 'Imóveis Belo Horizonte')\n",
    "     \n",
    "print('Os resultados foram agrupados com sucesso')"
   ]
  }
 ],
 "metadata": {
  "kernelspec": {
   "display_name": "Python 3 (ipykernel)",
   "language": "python",
   "name": "python3"
  },
  "language_info": {
   "codemirror_mode": {
    "name": "ipython",
    "version": 3
   },
   "file_extension": ".py",
   "mimetype": "text/x-python",
   "name": "python",
   "nbconvert_exporter": "python",
   "pygments_lexer": "ipython3",
   "version": "3.11.5"
  }
 },
 "nbformat": 4,
 "nbformat_minor": 2
}
