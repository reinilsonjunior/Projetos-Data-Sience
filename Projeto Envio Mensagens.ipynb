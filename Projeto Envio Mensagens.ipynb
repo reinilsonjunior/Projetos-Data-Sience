{
 "cells": [
  {
   "cell_type": "markdown",
   "id": "cb9608a3",
   "metadata": {},
   "source": [
    "### Envio Automático de Mensagens"
   ]
  },
  {
   "cell_type": "code",
   "execution_count": 1,
   "id": "7fac2f7d",
   "metadata": {},
   "outputs": [],
   "source": [
    "### Projeto Envio de mensagens automatizadas ###\n",
    "\n",
    "#Carregando os pacotes necessarios\n",
    "\n",
    "import time\n",
    "import urllib.parse\n",
    "import pandas as pd\n",
    "from selenium import webdriver\n",
    "from selenium.webdriver.common.by import By\n",
    "from selenium.webdriver.chrome.service import Service\n",
    "from datetime import datetime\n",
    "from webdriver_manager.chrome import ChromeDriverManager\n",
    "from selenium.webdriver.chrome.options import Options"
   ]
  },
  {
   "cell_type": "code",
   "execution_count": null,
   "id": "53bc237f",
   "metadata": {},
   "outputs": [],
   "source": [
    "chromedriver_path = \"./chromedriver//chromedriver.exe\"\n",
    "chrome_service = Service(chromedriver_path)\n",
    "navegador = webdriver.Chrome(service= chrome_service)\n",
    "navegador.get(\"https://web.whatsapp.com\")\n",
    "navegador.maximize_window()\n",
    "\n",
    "#enquanto a lista  de elementos nao for localizado nao passa proxima etapa\n",
    "while len(navegador.find_elements(By.ID, 'side')) < 1:\n",
    "    time.sleep(1)\n",
    "#um tempo maior para carregar a aplicacao do whatsapp Web\n",
    "time.sleep(5) \n",
    "\n",
    "#Carregar o arquivo excel\n",
    "tabela = pd.read_excel('agenda.xlsx', sheet_name= 'Clientes') \n",
    "\n",
    "#Faz um loop por toda a tabela\n",
    "for linha in tabela.index:\n",
    "    cliente = tabela.loc[linha,\"Cliente\"]\n",
    "    mensagem = tabela.loc[linha,\"Mensagem\"]\n",
    "    telefone = tabela.loc[linha,\"Telefone\"]\n",
    "    Status = tabela.loc[linha, \"Status\"]\n",
    "    \n",
    "    texto = urllib.parse.quote(f\"Oi {cliente},tudo bem? {mensagem}\")\n",
    "\n",
    "    link = f\"https://web.whatsapp.com/send?phone={telefone}&text={texto}\"\n",
    "    navegador.get(link)\n",
    "    \n",
    "    #enquanto a lista  de elementos nao for localizado nao passa proxima etapa\n",
    "    while len(navegador.find_elements(By.ID, 'side')) < 1:\n",
    "        time.sleep(1)\n",
    "    time.sleep(2)\n",
    "\n",
    "    #Verificar se o numero do cliente é válido\n",
    "    if len(navegador.find_elements(By.XPATH, '//*[@id=\"app\"]/div/span[2]/div/span/div/div/div/div/div/div[1]')) < 1: \n",
    "        navegador.find_element(By.XPATH, '//*[@id=\"main\"]/footer/div[1]/div/span[2]/div/div[2]/div[2]/button/span').click()  \n",
    "        tabela.loc[linha, \"Status\"] = \"Mensagem enviada com Sucesso\"\n",
    "    else:    \n",
    "        tabela.loc[linha, \"Status\"] = \"Erro: Mensagem não enviada\"\n",
    "\n",
    "    # Aguardar o intervalo de 60s para envio da proxima mensagem    \n",
    "    time.sleep(20)\n",
    "    \n",
    "data_atual = datetime.now().strftime(\"%Y-%m-%d\")\n",
    "nome_arquivo = f'Retorno_{data_atual}.xlsx'\n",
    "tabela.to_excel(nome_arquivo, index=False)\n",
    "print(f'Arquivo {nome_arquivo} gerado em excel com sucesso.')"
   ]
  }
 ],
 "metadata": {
  "kernelspec": {
   "display_name": "Python 3 (ipykernel)",
   "language": "python",
   "name": "python3"
  },
  "language_info": {
   "codemirror_mode": {
    "name": "ipython",
    "version": 3
   },
   "file_extension": ".py",
   "mimetype": "text/x-python",
   "name": "python",
   "nbconvert_exporter": "python",
   "pygments_lexer": "ipython3",
   "version": "3.11.5"
  }
 },
 "nbformat": 4,
 "nbformat_minor": 5
}
